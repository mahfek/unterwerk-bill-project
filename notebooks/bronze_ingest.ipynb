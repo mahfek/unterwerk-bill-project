{
 "cells": [
  {
   "cell_type": "code",
   "execution_count": 0,
   "metadata": {
    "application/vnd.databricks.v1+cell": {
     "cellMetadata": {
      "byteLimit": 2048000,
      "rowLimit": 10000
     },
     "inputWidgets": {},
     "nuid": "90606fc3-a25f-46db-9fd0-4f91dcbaba56",
     "showTitle": false,
     "tableResultSettingsMap": {},
     "title": ""
    }
   },
   "outputs": [],
   "source": [
    "from pyspark.sql import SparkSession\n",
    "import numpy as np\n",
    "import pandas as pd\n",
    "from datetime import datetime, timedelta\n",
    "\n",
    "spark = SparkSession.builder.getOrCreate()\n",
    "\n",
    "# Set seed for repeatability\n",
    "np.random.seed(42)\n",
    "\n",
    "# Load Excel (Generate Data)\n",
    "unterwerks = ['Leipzig_Nord', 'Leipzig_Sud', 'Leipzig_Mitte', 'Leipzig_West', 'Leipzig_Ost']\n",
    "dates = pd.date_range(start='2024-01-01', end='2024-12-31', freq='M')\n",
    "\n",
    "data = []\n",
    "\n",
    "for unterwerk in unterwerks:\n",
    "    for date in dates:\n",
    "        if np.random.rand() < 0.2:\n",
    "            row ={\n",
    "                'Unterwerk':unterwerk,\n",
    "                'BillDate':date.strftime('%Y-%m-%d'),\n",
    "                'Base_Consumption': np.random.randint(1000, 5000),\n",
    "                'Base_Amount': np.random.randint(200, 1000),\n",
    "                'NachtTarif_Consumption': np.random.randint(200, 1000),\n",
    "                'NachtTarif_Amount': np.random.uniform(30, 100),\n",
    "                'Tagestarif_Consumption': np.random.randint(500, 2000),\n",
    "                'Tagestarif_Amount': np.random.uniform(100, 400),\n",
    "                'EEG_Amount': np.random.uniform(50, 150),\n",
    "                'KWKG_Amount': np.random.uniform(1, 5),\n",
    "                'Stromsteuer_Amount': np.random.uniform(20, 50),\n",
    "                'Netzentgelte_Amount': np.random.uniform(50, 200),\n",
    "                'Messstellenbetrieb_Amount': np.random.uniform(1, 3),\n",
    "                'Messstellenmessung_Amount': np.random.uniform(0.5, 2),\n",
    "                'Offshore_Amount': np.random.uniform(0.5, 2),\n",
    "                'StromNEV_Amount': np.random.uniform(0.5, 3)\n",
    "            }\n",
    "            data.append(row)\n",
    "\n",
    "df_bronze = spark.createDataFrame(data)\n",
    "\n",
    "# Write to Delta Table\n",
    "df_bronze.write.format(\"delta\").mode(\"overwrite\").saveAsTable(\"bronze_unterwerk_bills\")\n",
    "\n",
    "display(df_bronze)"
   ]
  }
 ],
 "metadata": {
  "application/vnd.databricks.v1+notebook": {
   "computePreferences": null,
   "dashboards": [],
   "environmentMetadata": {
    "base_environment": "",
    "environment_version": "4"
   },
   "inputWidgetPreferences": null,
   "language": "python",
   "notebookMetadata": {
    "pythonIndentUnit": 4
   },
   "notebookName": "bronze_ingest",
   "widgets": {}
  },
  "language_info": {
   "name": "python"
  }
 },
 "nbformat": 4,
 "nbformat_minor": 0
}
